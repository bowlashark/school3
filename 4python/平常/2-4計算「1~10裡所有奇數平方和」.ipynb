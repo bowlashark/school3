{
 "cells": [
  {
   "cell_type": "code",
   "execution_count": 5,
   "id": "88802c5f-5e56-4541-a45b-dbab3bd0d019",
   "metadata": {},
   "outputs": [
    {
     "data": {
      "application/javascript": [
       "var nums = Array.from({ length: 251 }, (v, i) => i + 1); // 1~251\n",
       "var sum = nums\n",
       "  .filter(o => o % 2)\n",
       "  .map(o => o * o)\n",
       "  .reduce((a, b) => a + b);\n",
       "console.log('javascript所有奇數平方和- ' + sum);\n"
      ],
      "text/plain": [
       "<IPython.core.display.Javascript object>"
      ]
     },
     "metadata": {},
     "output_type": "display_data"
    }
   ],
   "source": [
    "%%js\n",
    "var nums = Array.from({ length: 251 }, (v, i) => i + 1);\n",
    "var sum = nums\n",
    "  .filter(o => o % 2)\n",
    "  .map(o => o * o)\n",
    "  .reduce((a, b) => a + b);\n",
    "console.log('javascript所有奇數平方和- ' + sum);"
   ]
  },
  {
   "cell_type": "code",
   "execution_count": 3,
   "id": "948cbe05-6242-4125-b7e7-6e4928e261a5",
   "metadata": {},
   "outputs": [
    {
     "name": "stdout",
     "output_type": "stream",
     "text": [
      "python1所有奇數平方和 2667126\n"
     ]
    }
   ],
   "source": [
    "nums = range(1, 252)\n",
    "odd_squares = [x * x for x in nums if x % 2 != 0]\n",
    "print(\"python1所有奇數平方和\", sum(odd_squares))"
   ]
  },
  {
   "cell_type": "code",
   "execution_count": 4,
   "id": "de600702-41f3-443f-8578-c9689268d4e5",
   "metadata": {},
   "outputs": [
    {
     "name": "stdout",
     "output_type": "stream",
     "text": [
      "python2所有奇數平方和 2667126\n"
     ]
    }
   ],
   "source": [
    "from functools import reduce\n",
    "nums = range(1, 252)\n",
    "result = reduce(\n",
    "    lambda x, y: x + y,\n",
    "    map(lambda x: x ** 2, filter(lambda x: x % 2 != 0, nums))\n",
    ")\n",
    "print(\"python2所有奇數平方和\", result)"
   ]
  },
  {
   "cell_type": "code",
   "execution_count": null,
   "id": "e114dd47-90fb-46eb-a16d-6b1450906729",
   "metadata": {},
   "outputs": [],
   "source": []
  }
 ],
 "metadata": {
  "kernelspec": {
   "display_name": "Python 3 (ipykernel)",
   "language": "python",
   "name": "python3"
  },
  "language_info": {
   "codemirror_mode": {
    "name": "ipython",
    "version": 3
   },
   "file_extension": ".py",
   "mimetype": "text/x-python",
   "name": "python",
   "nbconvert_exporter": "python",
   "pygments_lexer": "ipython3",
   "version": "3.12.6"
  }
 },
 "nbformat": 4,
 "nbformat_minor": 5
}
