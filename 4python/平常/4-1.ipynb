{
 "cells": [
  {
   "cell_type": "code",
   "execution_count": 1,
   "id": "850ea33d-97d3-4376-adab-a16107d61bc0",
   "metadata": {},
   "outputs": [
    {
     "name": "stdout",
     "output_type": "stream",
     "text": [
      "u= [[12 13 14 15]\n",
      " [16 17 18 19]\n",
      " [20 21 22 23]]\n",
      "v= [12 13 14 15]\n",
      "w=\n",
      " [[ 1  2]\n",
      " [ 5  6]\n",
      " [ 9 10]]\n",
      "x= [16 17 18]\n"
     ]
    }
   ],
   "source": [
    "import numpy as np\n",
    "\n",
    "a = np.arange(24)\n",
    "a = a.reshape([2, 3, 4])\n",
    "u = a[1]\n",
    "v = a[1, 0]\n",
    "w = a[0, :, 1:3]\n",
    "x = a[1, 1, :-1]\n",
    "\n",
    "print(\"u=\", u)\n",
    "print(\"v=\", v)\n",
    "print(\"w=\\n\", w)\n",
    "print(\"x=\", x)"
   ]
  },
  {
   "cell_type": "code",
   "execution_count": null,
   "id": "0dde70d1-b40b-4a13-be5b-13fa896b41d1",
   "metadata": {},
   "outputs": [],
   "source": []
  }
 ],
 "metadata": {
  "kernelspec": {
   "display_name": "Python 3 (ipykernel)",
   "language": "python",
   "name": "python3"
  },
  "language_info": {
   "codemirror_mode": {
    "name": "ipython",
    "version": 3
   },
   "file_extension": ".py",
   "mimetype": "text/x-python",
   "name": "python",
   "nbconvert_exporter": "python",
   "pygments_lexer": "ipython3",
   "version": "3.12.6"
  }
 },
 "nbformat": 4,
 "nbformat_minor": 5
}
