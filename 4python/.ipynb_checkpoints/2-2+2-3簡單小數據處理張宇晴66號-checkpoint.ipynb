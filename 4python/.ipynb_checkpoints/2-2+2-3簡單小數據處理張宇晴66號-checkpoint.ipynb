{
 "cells": [
  {
   "cell_type": "code",
   "execution_count": 13,
   "id": "ef89fc57-5aa4-41ed-b06e-f0bac7ac5443",
   "metadata": {},
   "outputs": [
    {
     "name": "stdout",
     "output_type": "stream",
     "text": [
      "Bob's (id: 0) final assessment is: PASSED\n",
      "Alice's (id: 1) final assessment is: PASSED WITH MERIT\n",
      "Carol's (id: 2) final assessment is: FAILED\n",
      "Dan's (id: 3) final assessment is: FAILED\n",
      "張宇晴1's (id: 99) final assessment is: PASSED WITH MERIT\n",
      "張宇晴2's (id: 98) final assessment is: PASSED\n",
      "張宇晴3's (id: 97) final assessment is: FAILED\n"
     ]
    }
   ],
   "source": [
    "student_data = [\n",
    "    {'name': 'Bob', 'id': 0, 'scores': [68, 75, 76, 81]},\n",
    "    {'name': 'Alice', 'id': 1, 'scores': [75, 90, 64, 88]},\n",
    "    {'name': 'Carol', 'id': 2, 'scores': [59, 74, 71, 68]},\n",
    "    {'name': 'Dan', 'id': 3, 'scores': [64, 58, 53, 62]},\n",
    "    {'name': '張宇晴1', 'id': 99, 'scores': [80, 81, 82, 83]},\n",
    "    {'name': '張宇晴2', 'id': 98, 'scores': [75, 75, 75, 75]},\n",
    "    {'name': '張宇晴3', 'id': 97, 'scores': [59, 59, 59, 59]}\n",
    "]\n",
    "\n",
    "def process_student_data(data, pass_threshold=68, merit_threshold=75):\n",
    "    for sdata in data:\n",
    "        av = sum(sdata['scores']) / len(sdata['scores'])\n",
    "        sdata['average'] = av\n",
    "        \n",
    "        if av > merit_threshold:\n",
    "            sdata['assessment'] = 'passed with merit'\n",
    "        elif av > pass_threshold:\n",
    "            sdata['assessment'] = 'passed'\n",
    "        else:\n",
    "            sdata['assessment'] = 'failed'\n",
    "        \n",
    "        print(f\"{sdata['name']}'s (id: {sdata['id']}) final assessment is: {sdata['assessment'].upper()}\")\n",
    "\n",
    "process_student_data(student_data)"
   ]
  },
  {
   "cell_type": "code",
   "execution_count": 12,
   "id": "7e5c7e0d-22bc-46b3-81fb-0b1dab8cefd4",
   "metadata": {},
   "outputs": [
    {
     "name": "stdout",
     "output_type": "stream",
     "text": [
      "[{'name': 'Bob', 'id': 0, 'scores': [68, 75, 76, 81], 'average': 75.0, 'assessment': 'passed'}, {'name': 'Alice', 'id': 1, 'scores': [75, 90, 64, 88], 'average': 79.25, 'assessment': 'passed with merit'}, {'name': 'Carol', 'id': 2, 'scores': [59, 74, 71, 68], 'average': 68.0, 'assessment': 'failed'}, {'name': 'Dan', 'id': 3, 'scores': [64, 58, 53, 62], 'average': 59.25, 'assessment': 'failed'}, {'name': '張宇晴1', 'id': 99, 'scores': [80, 81, 82, 83], 'average': 81.5, 'assessment': 'passed with merit'}, {'name': '張宇晴2', 'id': 98, 'scores': [75, 75, 75, 75], 'average': 75.0, 'assessment': 'passed'}, {'name': '張宇晴3', 'id': 97, 'scores': [59, 59, 59, 59], 'average': 59.0, 'assessment': 'failed'}]\n"
     ]
    }
   ],
   "source": [
    "print(student_data)"
   ]
  },
  {
   "cell_type": "code",
   "execution_count": 15,
   "id": "9ce3683c-2850-4418-aa1b-97b9e196710b",
   "metadata": {},
   "outputs": [
    {
     "data": {
      "application/javascript": [
       "var studentData = [\n",
       "    {name: 'Bob', id:0, 'scores':[68, 75, 76, 81]},\n",
       "    {name: 'Alice', id:1, 'scores':[75, 90, 64, 88]},\n",
       "    {'name': 'Carol', id:2, 'scores':[59, 74, 71, 68]},\n",
       "    {'name': 'Dan', id:3, 'scores':[64, 58, 53, 62]},\n",
       "    {'name': '張宇晴1', 'id':99, 'scores':[80, 81, 82, 83]}, \n",
       "    {'name': '張宇晴2', 'id':98, 'scores':[75, 75, 75, 75]}, \n",
       "    {'name': '張宇晴3', 'id':97, 'scores':[59, 59, 59, 59]}, \n",
       "];\n",
       "\n",
       "// B\n",
       "function processStudentData(data, passThreshold, meritThreshold) {\n",
       "    passThreshold = typeof passThreshold !== 'undefined' ?\n",
       "        passThreshold : 68;\n",
       "    meritThreshold = typeof meritThreshold !== 'undefined' ?\n",
       "        meritThreshold : 75;\n",
       "\n",
       "    // C\n",
       "    data.forEach(function(sdata){\n",
       "        var av = sdata.scores.reduce(function(prev, current) {\n",
       "            return prev+current;\n",
       "        },0) / sdata.scores.length;\n",
       "        sdata.average = av;\n",
       "\n",
       "        if(av > meritThreshold) {\n",
       "            sdata.assessment = 'passed with merit';\n",
       "        }\n",
       "        else if(av > passThreshold) {\n",
       "            sdata.assessment = 'passed';\n",
       "        }\n",
       "        else {\n",
       "            sdata.assessment = 'failed';\n",
       "        }\n",
       "        // D\n",
       "        console.log(sdata.name + \"'s (id: \" + sdata.id +\n",
       "            \") final assessment is: \" +\n",
       "            sdata.assessment.toUpperCase());\n",
       "    });\n",
       "}\n",
       "\n",
       "//E\n",
       "processStudentData(studentData);\n"
      ],
      "text/plain": [
       "<IPython.core.display.Javascript object>"
      ]
     },
     "metadata": {},
     "output_type": "display_data"
    }
   ],
   "source": [
    "%%js\n",
    "var studentData = [\n",
    "    {name: 'Bob', id:0, 'scores':[68, 75, 76, 81]},\n",
    "    {name: 'Alice', id:1, 'scores':[75, 90, 64, 88]},\n",
    "    {'name': 'Carol', id:2, 'scores':[59, 74, 71, 68]},\n",
    "    {'name': 'Dan', id:3, 'scores':[64, 58, 53, 62]},\n",
    "    {'name': '張宇晴1', 'id':99, 'scores':[80, 81, 82, 83]}, \n",
    "    {'name': '張宇晴2', 'id':98, 'scores':[75, 75, 75, 75]}, \n",
    "    {'name': '張宇晴3', 'id':97, 'scores':[59, 59, 59, 59]}, \n",
    "];\n",
    "\n",
    "// B\n",
    "function processStudentData(data, passThreshold, meritThreshold) {\n",
    "    passThreshold = typeof passThreshold !== 'undefined' ?\n",
    "        passThreshold : 68;\n",
    "    meritThreshold = typeof meritThreshold !== 'undefined' ?\n",
    "        meritThreshold : 75;\n",
    "\n",
    "    // C\n",
    "    data.forEach(function(sdata){\n",
    "        var av = sdata.scores.reduce(function(prev, current) {\n",
    "            return prev+current;\n",
    "        },0) / sdata.scores.length;\n",
    "        sdata.average = av;\n",
    "\n",
    "        if(av > meritThreshold) {\n",
    "            sdata.assessment = 'passed with merit';\n",
    "        }\n",
    "        else if(av > passThreshold) {\n",
    "            sdata.assessment = 'passed';\n",
    "        }\n",
    "        else {\n",
    "            sdata.assessment = 'failed';\n",
    "        }\n",
    "        // D\n",
    "        console.log(sdata.name + \"'s (id: \" + sdata.id +\n",
    "            \") final assessment is: \" +\n",
    "            sdata.assessment.toUpperCase());\n",
    "    });\n",
    "}\n",
    "\n",
    "//E\n",
    "processStudentData(studentData);"
   ]
  },
  {
   "cell_type": "code",
   "execution_count": null,
   "id": "322a44d7-bac1-450d-a306-5c793c8024f9",
   "metadata": {},
   "outputs": [],
   "source": []
  }
 ],
 "metadata": {
  "kernelspec": {
   "display_name": "Python 3 (ipykernel)",
   "language": "python",
   "name": "python3"
  },
  "language_info": {
   "codemirror_mode": {
    "name": "ipython",
    "version": 3
   },
   "file_extension": ".py",
   "mimetype": "text/x-python",
   "name": "python",
   "nbconvert_exporter": "python",
   "pygments_lexer": "ipython3",
   "version": "3.12.6"
  }
 },
 "nbformat": 4,
 "nbformat_minor": 5
}
