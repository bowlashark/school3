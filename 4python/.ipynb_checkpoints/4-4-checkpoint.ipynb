{
 "cells": [
  {
   "cell_type": "code",
   "execution_count": 1,
   "metadata": {},
   "outputs": [],
   "source": [
    "import numpy as np\n",
    "import matplotlib.pyplot as plt"
   ]
  },
  {
   "cell_type": "markdown",
   "metadata": {},
   "source": [
    "### Add1：內容值12到37"
   ]
  },
  {
   "cell_type": "code",
   "execution_count": 2,
   "metadata": {},
   "outputs": [
    {
     "name": "stdout",
     "output_type": "stream",
     "text": [
      "[12 13 14 15 16 17 18 19 20 21 22 23 24 25 26 27 28 29 30 31 32 33 34 35\n",
      " 36 37]\n"
     ]
    }
   ],
   "source": [
    "a1 = np.arange(12, 38)\n",
    "print(a1)"
   ]
  },
  {
   "cell_type": "markdown",
   "metadata": {},
   "source": [
    "### Add2：3x3，內容2~10"
   ]
  },
  {
   "cell_type": "code",
   "execution_count": 3,
   "metadata": {},
   "outputs": [
    {
     "name": "stdout",
     "output_type": "stream",
     "text": [
      "[[ 2  3  4]\n",
      " [ 5  6  7]\n",
      " [ 8  9 10]]\n"
     ]
    }
   ],
   "source": [
    "a2 = np.arange(2, 11).reshape(3, 3)\n",
    "print(a2)"
   ]
  },
  {
   "cell_type": "markdown",
   "metadata": {},
   "source": [
    "### Add3：唯一元素"
   ]
  },
  {
   "cell_type": "code",
   "execution_count": 4,
   "metadata": {},
   "outputs": [
    {
     "name": "stdout",
     "output_type": "stream",
     "text": [
      "原始陣列: [10 10 20 20 30 30]\n",
      "唯一元素: [10 20 30]\n"
     ]
    }
   ],
   "source": [
    "a3 = np.array([10, 10, 20, 20, 30, 30])\n",
    "print('原始陣列:', a3)\n",
    "print('唯一元素:', np.unique(a3))"
   ]
  },
  {
   "cell_type": "markdown",
   "metadata": {},
   "source": [
    "### Add4：找最大最小值的索引"
   ]
  },
  {
   "cell_type": "code",
   "execution_count": 5,
   "metadata": {},
   "outputs": [
    {
     "name": "stdout",
     "output_type": "stream",
     "text": [
      "原始陣列: [1 2 3 4 5 6]\n",
      "最大值: 5\n",
      "最小值: 0\n"
     ]
    }
   ],
   "source": [
    "a4 = np.arange(1, 7)\n",
    "print('原始陣列:', a4)\n",
    "print('最大值:', np.argmax(a4))\n",
    "print('最小值:', np.argmin(a4))"
   ]
  },
  {
   "cell_type": "markdown",
   "metadata": {},
   "source": [
    "### Add5：建立3x5全6陣列"
   ]
  },
  {
   "cell_type": "code",
   "execution_count": 6,
   "metadata": {},
   "outputs": [
    {
     "name": "stdout",
     "output_type": "stream",
     "text": [
      "用np.full的方法\n",
      "[[6 6 6 6 6]\n",
      " [6 6 6 6 6]\n",
      " [6 6 6 6 6]]\n",
      "用np.ones的方法\n",
      "[[6 6 6 6 6]\n",
      " [6 6 6 6 6]\n",
      " [6 6 6 6 6]]\n"
     ]
    }
   ],
   "source": [
    "print('用np.full的方法')\n",
    "print(np.full((3,5), 6))\n",
    "print('用np.ones的方法')\n",
    "print(np.ones((3,5), dtype=int) * 6)"
   ]
  },
  {
   "cell_type": "markdown",
   "metadata": {},
   "source": [
    "### Add6：linspace 2~6(含)10個值"
   ]
  },
  {
   "cell_type": "code",
   "execution_count": 7,
   "metadata": {},
   "outputs": [
    {
     "name": "stdout",
     "output_type": "stream",
     "text": [
      "[2.         2.44444444 2.88888889 3.33333333 3.77777778 4.22222222\n",
      " 4.66666667 5.11111111 5.55555556 6.        ]\n"
     ]
    }
   ],
   "source": [
    "a6 = np.linspace(2, 6, 10)\n",
    "print(a6)"
   ]
  },
  {
   "cell_type": "markdown",
   "metadata": {},
   "source": [
    "### Add7：增加維度軸"
   ]
  },
  {
   "cell_type": "code",
   "execution_count": 8,
   "metadata": {},
   "outputs": [
    {
     "name": "stdout",
     "output_type": "stream",
     "text": [
      "原始一維陣列 [1 2 3] 原來的shape是 (3,)\n",
      "增加新維度軸(3,1):\n",
      " [[1]\n",
      " [2]\n",
      " [3]] shape= (3, 1)\n",
      "增加新維度軸(1,3):\n",
      " [[1 2 3]] shape= (1, 3)\n",
      "增加新維度軸(3,1,1):\n",
      " [[[1]]\n",
      "\n",
      " [[2]]\n",
      "\n",
      " [[3]]] shape= (3, 1, 1)\n"
     ]
    }
   ],
   "source": [
    "a7 = np.array([1,2,3])\n",
    "print('原始一維陣列', a7, '原來的shape是', a7.shape)\n",
    "print('增加新維度軸(3,1):\\n', a7.reshape(3,1), 'shape=', a7.reshape(3,1).shape)\n",
    "print('增加新維度軸(1,3):\\n', a7.reshape(1,3), 'shape=', a7.reshape(1,3).shape)\n",
    "print('增加新維度軸(3,1,1):\\n', a7.reshape(3,1,1), 'shape=', a7.reshape(3,1,1).shape)"
   ]
  },
  {
   "cell_type": "markdown",
   "metadata": {},
   "source": [
    "### Add8：3x3取第一列"
   ]
  },
  {
   "cell_type": "code",
   "execution_count": 9,
   "metadata": {},
   "outputs": [
    {
     "name": "stdout",
     "output_type": "stream",
     "text": [
      "原始矩陣:\n",
      "[[ 2  3  4]\n",
      " [ 5  6  7]\n",
      " [ 8  9 10]]\n",
      "第一列: [2 3 4]\n"
     ]
    }
   ],
   "source": [
    "a8 = np.arange(2, 11).reshape(3, 3)\n",
    "print('原始矩陣:')\n",
    "print(a8)\n",
    "print('第一列:', a8[0])"
   ]
  },
  {
   "cell_type": "markdown",
   "metadata": {},
   "source": [
    "### Add9：0~20能被3整除、平均、標準差"
   ]
  },
  {
   "cell_type": "code",
   "execution_count": 10,
   "metadata": {},
   "outputs": [
    {
     "name": "stdout",
     "output_type": "stream",
     "text": [
      "能被3整除的數: [ 0  3  6  9 12 15 18]\n",
      "平均值: 9.0\n",
      "標準差: 6.0\n"
     ]
    }
   ],
   "source": [
    "a9 = np.arange(0, 21, 3)\n",
    "print('能被3整除的數:', a9)\n",
    "print('平均值:', np.mean(a9))\n",
    "print('標準差:', np.std(a9))"
   ]
  },
  {
   "cell_type": "markdown",
   "metadata": {},
   "source": [
    "### Add10：陣列元素加法"
   ]
  },
  {
   "cell_type": "code",
   "execution_count": 11,
   "metadata": {},
   "outputs": [
    {
     "name": "stdout",
     "output_type": "stream",
     "text": [
      "陣列1: [1 2 3]\n",
      "陣列2: [4 5 6]\n",
      "加法結果: [5 7 9]\n"
     ]
    }
   ],
   "source": [
    "a10_1 = np.array([1,2,3])\n",
    "a10_2 = np.array([4,5,6])\n",
    "print('陣列1:', a10_1)\n",
    "print('陣列2:', a10_2)\n",
    "print('加法結果:', a10_1 + a10_2)"
   ]
  },
  {
   "cell_type": "markdown",
   "metadata": {},
   "source": [
    "### Add11：10x10隨機整數矩陣，最大最小值"
   ]
  },
  {
   "cell_type": "code",
   "execution_count": 12,
   "metadata": {},
   "outputs": [
    {
     "name": "stdout",
     "output_type": "stream",
     "text": [
      "矩陣:\n",
      "[[ 3  4 10 10 10  1 17 15 28  2]\n",
      " [13 12 27 26 29 25 17  9 19 24]\n",
      " [ 4 23 15  3 18 22 22 27  2  6]\n",
      " [27 20  1 12 22  3 12 26  6 27]\n",
      " [ 8 28 27 29  9  7 29  7 12  3]\n",
      " [29 25 22 11  1 15  1  6 25 16]\n",
      " [22  5  3 29 25 13 27 18  6 12]\n",
      " [ 2  8 19 17  3  2  1 28 19  5]\n",
      " [14 15 13 20 16 21 26 17  1  0]\n",
      " [18 28  0  2 28 14  2 23 13 29]]\n",
      "最大值: 29\n",
      "最小值: 0\n"
     ]
    }
   ],
   "source": [
    "a11 = np.random.randint(0,30,(10,10))\n",
    "print('矩陣:')\n",
    "print(a11)\n",
    "print('最大值:', np.max(a11))\n",
    "print('最小值:', np.min(a11))"
   ]
  },
  {
   "cell_type": "markdown",
   "metadata": {},
   "source": [
    "### Add12：一維陣列平方"
   ]
  },
  {
   "cell_type": "code",
   "execution_count": 13,
   "metadata": {},
   "outputs": [
    {
     "name": "stdout",
     "output_type": "stream",
     "text": [
      "原始: [1 2 3 4 5]\n",
      "平方後: [ 1  4  9 16 25]\n"
     ]
    }
   ],
   "source": [
    "a12 = np.array([1,2,3,4,5])\n",
    "print('原始:', a12)\n",
    "print('平方後:', a12**2)"
   ]
  },
  {
   "cell_type": "markdown",
   "metadata": {},
   "source": [
    "### Add13：篩選大於平均值"
   ]
  },
  {
   "cell_type": "code",
   "execution_count": 14,
   "metadata": {},
   "outputs": [
    {
     "name": "stdout",
     "output_type": "stream",
     "text": [
      "平均值: 17.6\n",
      "大於平均值的元素: [25 30]\n"
     ]
    }
   ],
   "source": [
    "a13 = np.array([10,25,8,30,15])\n",
    "m13 = np.mean(a13)\n",
    "print('平均值:', m13)\n",
    "print('大於平均值的元素:', a13[a13 > m13])"
   ]
  },
  {
   "cell_type": "markdown",
   "metadata": {},
   "source": [
    "### Add14：2x3矩陣與轉置"
   ]
  },
  {
   "cell_type": "code",
   "execution_count": 15,
   "metadata": {},
   "outputs": [
    {
     "name": "stdout",
     "output_type": "stream",
     "text": [
      "原矩陣:\n",
      "[[0 1 2]\n",
      " [3 4 5]]\n",
      "轉置矩陣:\n",
      "[[0 3]\n",
      " [1 4]\n",
      " [2 5]]\n"
     ]
    }
   ],
   "source": [
    "a14 = np.arange(6).reshape(2,3)\n",
    "print('原矩陣:')\n",
    "print(a14)\n",
    "print('轉置矩陣:')\n",
    "print(a14.T)"
   ]
  },
  {
   "cell_type": "markdown",
   "metadata": {},
   "source": [
    "### Add15：2x2x4三維陣列，選出[12,13,14]"
   ]
  },
  {
   "cell_type": "code",
   "execution_count": 16,
   "metadata": {},
   "outputs": [
    {
     "name": "stdout",
     "output_type": "stream",
     "text": [
      "原矩陣:\n",
      "[[[ 0  1  2  3]\n",
      "  [ 4  5  6  7]]\n",
      "\n",
      " [[ 8  9 10 11]\n",
      "  [12 13 14 15]]]\n",
      "選出[12,13,14]:\n",
      "[12 13 14]\n"
     ]
    }
   ],
   "source": [
    "a15 = np.arange(16).reshape(2,2,4)\n",
    "print('原矩陣:')\n",
    "print(a15)\n",
    "print('選出[12,13,14]:')\n",
    "print(a15[1,1,0:3])"
   ]
  },
  {
   "cell_type": "markdown",
   "metadata": {},
   "source": [
    "### Add16：畫y = x^2曲線"
   ]
  },
  {
   "cell_type": "code",
   "execution_count": 17,
   "metadata": {},
   "outputs": [
    {
     "name": "stderr",
     "output_type": "stream",
     "text": [
      "C:\\Users\\bowla\\AppData\\Roaming\\Python\\Python312\\site-packages\\IPython\\core\\pylabtools.py:170: UserWarning: Glyph 32362 (\\N{CJK UNIFIED IDEOGRAPH-7E6A}) missing from font(s) DejaVu Sans.\n",
      "  fig.canvas.print_figure(bytes_io, **kw)\n",
      "C:\\Users\\bowla\\AppData\\Roaming\\Python\\Python312\\site-packages\\IPython\\core\\pylabtools.py:170: UserWarning: Glyph 22294 (\\N{CJK UNIFIED IDEOGRAPH-5716}) missing from font(s) DejaVu Sans.\n",
      "  fig.canvas.print_figure(bytes_io, **kw)\n",
      "C:\\Users\\bowla\\AppData\\Roaming\\Python\\Python312\\site-packages\\IPython\\core\\pylabtools.py:170: UserWarning: Glyph 31684 (\\N{CJK UNIFIED IDEOGRAPH-7BC4}) missing from font(s) DejaVu Sans.\n",
      "  fig.canvas.print_figure(bytes_io, **kw)\n",
      "C:\\Users\\bowla\\AppData\\Roaming\\Python\\Python312\\site-packages\\IPython\\core\\pylabtools.py:170: UserWarning: Glyph 20363 (\\N{CJK UNIFIED IDEOGRAPH-4F8B}) missing from font(s) DejaVu Sans.\n",
      "  fig.canvas.print_figure(bytes_io, **kw)\n"
     ]
    },
    {
     "data": {
      "image/png": "[encoded data removed]",
      "text/plain": [
       "<Figure size 640x480 with 1 Axes>"
      ]
     },
     "metadata": {},
     "output_type": "display_data"
    }
   ],
   "source": [
    "x = np.linspace(-5, 5, 100)\n",
    "y = x**2\n",
    "plt.plot(x, y)\n",
    "plt.title('NumPy繪圖範例: y = x²')\n",
    "plt.xlabel('x')\n",
    "plt.ylabel('y')\n",
    "plt.grid(True)\n",
    "plt.show()"
   ]
  }
 ],
 "metadata": {
  "kernelspec": {
   "display_name": "Python 3 (ipykernel)",
   "language": "python",
   "name": "python3"
  },
  "language_info": {
   "codemirror_mode": {
    "name": "ipython",
    "version": 3
   },
   "file_extension": ".py",
   "mimetype": "text/x-python",
   "name": "python",
   "nbconvert_exporter": "python",
   "pygments_lexer": "ipython3",
   "version": "3.12.6"
  }
 },
 "nbformat": 4,
 "nbformat_minor": 4
}
