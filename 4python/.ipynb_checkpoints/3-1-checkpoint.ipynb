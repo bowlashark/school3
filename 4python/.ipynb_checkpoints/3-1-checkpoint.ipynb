{
 "cells": [
  {
   "cell_type": "code",
   "execution_count": 30,
   "id": "2ab3fc1e-f8c6-4a29-827c-a4f01e182c57",
   "metadata": {},
   "outputs": [
    {
     "name": "stdout",
     "output_type": "stream",
     "text": [
      "aaa_name張宇晴 251 aaa2 aaa3\n",
      "bbb bbb2 bbb3\n",
      "ccc ccc2 ccc3\n",
      "\n"
     ]
    }
   ],
   "source": [
    "fp = open('in.txt', encoding='utf-8')\n",
    "print(fp.read())\n",
    "fp.close()"
   ]
  },
  {
   "cell_type": "code",
   "execution_count": 31,
   "id": "3b05ebac-6f09-4011-86e7-3422fedc64d3",
   "metadata": {},
   "outputs": [
    {
     "name": "stdout",
     "output_type": "stream",
     "text": [
      "aaa_name張宇晴 251 aaa2 aaa3\n",
      "bbb bbb2 bbb3\n",
      "ccc ccc2 ccc3\n"
     ]
    }
   ],
   "source": [
    "fp = open('in.txt', encoding='utf-8')\n",
    "line = fp.readline()\n",
    "while line:\n",
    "    print(line, end='')\n",
    "    line = fp.readline()\n",
    "fp.close()"
   ]
  },
  {
   "cell_type": "code",
   "execution_count": 32,
   "id": "2f698f5f-2582-44da-8b3b-70e26fc6b832",
   "metadata": {},
   "outputs": [
    {
     "name": "stdout",
     "output_type": "stream",
     "text": [
      "aaa_name張宇晴 251 aaa2 aaa3\n",
      "bbb bbb2 bbb3\n",
      "ccc ccc2 ccc3\n"
     ]
    }
   ],
   "source": [
    "fp = open('in.txt', encoding='utf-8')\n",
    "for line in fp:\n",
    "    print(line, end='')\n",
    "fp.close()"
   ]
  },
  {
   "cell_type": "code",
   "execution_count": 33,
   "id": "6af1d983-1a38-43b3-9ebb-fb80c036a0bd",
   "metadata": {},
   "outputs": [
    {
     "name": "stdout",
     "output_type": "stream",
     "text": [
      "aaa_name張宇晴 251 aaa2 aaa3\n",
      "bbb bbb2 bbb3\n",
      "ccc ccc2 ccc3\n"
     ]
    }
   ],
   "source": [
    "fp = open('in.txt', encoding='utf-8')\n",
    "for line in fp.readlines():\n",
    "    print(line, end='')\n",
    "fp.close()"
   ]
  },
  {
   "cell_type": "code",
   "execution_count": 34,
   "id": "3047f7f3-20d3-4095-8fc0-4a6e38d291c4",
   "metadata": {},
   "outputs": [
    {
     "name": "stdout",
     "output_type": "stream",
     "text": [
      "aaa_name張宇晴 251 aaa2 aaa3\n",
      "bbb bbb2 bbb3\n",
      "ccc ccc2 ccc3\n"
     ]
    }
   ],
   "source": [
    "with open('in.txt', encoding='utf-8') as fp:\n",
    "    for line in fp:\n",
    "        print(line, end='')"
   ]
  }
 ],
 "metadata": {
  "kernelspec": {
   "display_name": "Python 3 (ipykernel)",
   "language": "python",
   "name": "python3"
  },
  "language_info": {
   "codemirror_mode": {
    "name": "ipython",
    "version": 3
   },
   "file_extension": ".py",
   "mimetype": "text/x-python",
   "name": "python",
   "nbconvert_exporter": "python",
   "pygments_lexer": "ipython3",
   "version": "3.12.6"
  }
 },
 "nbformat": 4,
 "nbformat_minor": 5
}
