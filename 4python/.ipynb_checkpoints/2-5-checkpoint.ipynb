{
 "cells": [
  {
   "cell_type": "code",
   "execution_count": 4,
   "id": "a056a1a3-e0e9-4822-bffa-ba40557fb67d",
   "metadata": {},
   "outputs": [
    {
     "data": {
      "application/javascript": [
       "var num = 251 + 100;\n",
       "\n",
       "var t = 0;\n",
       "for (const i of Array(num + 1).keys()) {\n",
       "    t += i;\n",
       "}\n",
       "console.log(\"js方法1: \" + t);\n",
       "\n",
       "\n",
       "t = 0;\n",
       "var i = 1;\n",
       "while (i <= num) {\n",
       "    t += i;\n",
       "    i += 1;\n",
       "}\n",
       "console.log(\"js方法2: \" + t);\n",
       "\n",
       "\n",
       "t = 0;\n",
       "i = 1;\n",
       "while (true) {\n",
       "    t += i;\n",
       "    if (i >= num) break;\n",
       "    i += 1;\n",
       "}\n",
       "console.log(\"js方法3: \" + t);\n"
      ],
      "text/plain": [
       "<IPython.core.display.Javascript object>"
      ]
     },
     "metadata": {},
     "output_type": "display_data"
    }
   ],
   "source": [
    "%%js\n",
    "var num = 251 + 100;\n",
    "\n",
    "var t = 0;\n",
    "for (const i of Array(num + 1).keys()) {\n",
    "    t += i;\n",
    "}\n",
    "console.log(\"js方法1: \" + t);\n",
    "\n",
    "\n",
    "t = 0;\n",
    "var i = 1;\n",
    "while (i <= num) {\n",
    "    t += i;\n",
    "    i += 1;\n",
    "}\n",
    "console.log(\"js方法2: \" + t);\n",
    "\n",
    "\n",
    "t = 0;\n",
    "i = 1;\n",
    "while (true) {\n",
    "    t += i;\n",
    "    if (i >= num) break;\n",
    "    i += 1;\n",
    "}\n",
    "console.log(\"js方法3: \" + t);"
   ]
  },
  {
   "cell_type": "code",
   "execution_count": 5,
   "id": "80124884-5e53-42a0-828c-96d36514dc99",
   "metadata": {},
   "outputs": [
    {
     "name": "stdout",
     "output_type": "stream",
     "text": [
      "python方法1 61776\n",
      "python方法2 61776\n",
      "python方法3 61776\n"
     ]
    }
   ],
   "source": [
    "num = 251 + 100\n",
    "\n",
    "t = 0\n",
    "for i in range(num + 1):\n",
    "    t += i\n",
    "print(\"python方法1\", t)\n",
    "\n",
    "t = 0\n",
    "i = 1\n",
    "while i <= num:\n",
    "    t += i\n",
    "    i += 1\n",
    "print(\"python方法2\", t)\n",
    "\n",
    "t = 0\n",
    "i = 1\n",
    "while True:\n",
    "    if i > num:\n",
    "        break\n",
    "    t += i\n",
    "    i += 1\n",
    "print(\"python方法3\", t)"
   ]
  }
 ],
 "metadata": {
  "kernelspec": {
   "display_name": "Python 3 (ipykernel)",
   "language": "python",
   "name": "python3"
  },
  "language_info": {
   "codemirror_mode": {
    "name": "ipython",
    "version": 3
   },
   "file_extension": ".py",
   "mimetype": "text/x-python",
   "name": "python",
   "nbconvert_exporter": "python",
   "pygments_lexer": "ipython3",
   "version": "3.12.6"
  }
 },
 "nbformat": 4,
 "nbformat_minor": 5
}
