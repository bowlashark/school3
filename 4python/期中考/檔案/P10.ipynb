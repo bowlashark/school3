{
 "cells": [
  {
   "cell_type": "code",
   "execution_count": 1,
   "metadata": {},
   "outputs": [],
   "source": [
    "import numpy as np"
   ]
  },
  {
   "cell_type": "markdown",
   "metadata": {},
   "source": [
    "## EXnp補充實作Add1: 創建920到938之間的18個數字，reshape為3×6"
   ]
  },
  {
   "cell_type": "code",
   "execution_count": 2,
   "metadata": {},
   "outputs": [
    {
     "name": "stdout",
     "output_type": "stream",
     "text": [
      "Add1 Output:\n",
      "[[920 921 922 923 924 925]\n",
      " [926 927 928 929 930 931]\n",
      " [932 933 934 935 936 937]]\n"
     ]
    }
   ],
   "source": [
    "# Add1 解答\n",
    "arr1 = np.arange(920, 938)\n",
    "arr1_reshaped = arr1.reshape(3, 6)\n",
    "print(\"Add1 Output:\")\n",
    "print(arr1_reshaped)"
   ]
  },
  {
   "cell_type": "markdown",
   "metadata": {},
   "source": [
    "## EXnp補充實作Add2: 獲取陣列中的唯一元素"
   ]
  },
  {
   "cell_type": "code",
   "execution_count": 3,
   "metadata": {},
   "outputs": [
    {
     "name": "stdout",
     "output_type": "stream",
     "text": [
      "Add2 Output:\n",
      "原始陣列:\n",
      "[50 10 10 20 20 30 30 30 40]\n",
      "唯一元素:\n",
      "[10 20 30 40 50]\n"
     ]
    }
   ],
   "source": [
    "# Add2 解答\n",
    "arr2 = np.array([50, 10, 10, 20, 20, 30, 30, 30, 40])\n",
    "unique_elements = np.unique(arr2)\n",
    "print(\"Add2 Output:\")\n",
    "print(\"原始陣列:\")\n",
    "print(arr2)\n",
    "print(\"唯一元素:\")\n",
    "print(unique_elements)"
   ]
  },
  {
   "cell_type": "markdown",
   "metadata": {},
   "source": [
    "## EXnp補充實作Add3: 沿軸查找最大值和最小值索引"
   ]
  },
  {
   "cell_type": "code",
   "execution_count": 4,
   "metadata": {},
   "outputs": [
    {
     "name": "stdout",
     "output_type": "stream",
     "text": [
      "Add3 Output:\n",
      "原始陣列: [21 22 23 24 25 26 27]\n",
      "最大值索引: 6\n",
      "最小值索引: 0\n"
     ]
    }
   ],
   "source": [
    "# Add3 解答\n",
    "arr3 = np.arange(21, 28)\n",
    "max_idx = np.argmax(arr3)\n",
    "min_idx = np.argmin(arr3)\n",
    "print(\"Add3 Output:\")\n",
    "print(\"原始陣列:\", arr3)\n",
    "print(\"最大值索引:\", max_idx)\n",
    "print(\"最小值索引:\", min_idx)"
   ]
  },
  {
   "cell_type": "markdown",
   "metadata": {},
   "source": [
    "## EXnp補充實作Add4: 創建3×5陣列填充7（兩種方法）"
   ]
  },
  {
   "cell_type": "code",
   "execution_count": 5,
   "metadata": {},
   "outputs": [
    {
     "name": "stdout",
     "output_type": "stream",
     "text": [
      "Add4 Output:\n",
      "用np.full的方法\n",
      "[[7 7 7 7 7]\n",
      " [7 7 7 7 7]\n",
      " [7 7 7 7 7]]\n",
      "\n",
      "用np.ones的方法\n",
      "[[7. 7. 7. 7. 7.]\n",
      " [7. 7. 7. 7. 7.]\n",
      " [7. 7. 7. 7. 7.]]\n"
     ]
    }
   ],
   "source": [
    "# Add4 解答\n",
    "print(\"Add4 Output:\")\n",
    "print(\"用np.full的方法\")\n",
    "arr4_full = np.full((3, 5), 7)\n",
    "print(arr4_full)\n",
    "print(\"\\n用np.ones的方法\")\n",
    "arr4_ones = np.ones((3, 5)) * 7\n",
    "print(arr4_ones)"
   ]
  },
  {
   "cell_type": "markdown",
   "metadata": {},
   "source": [
    "## EXnp補充實作Add5: 增加新維度軸"
   ]
  },
  {
   "cell_type": "code",
   "execution_count": 6,
   "metadata": {},
   "outputs": [
    {
     "name": "stdout",
     "output_type": "stream",
     "text": [
      "原始一維陣列 [10 20 30 40] 原來的shape是 (4,)\n",
      "增加新維度軸為二維陣列；新的shape是(4,1)\n",
      "[[10]\n",
      " [20]\n",
      " [30]\n",
      " [40]] shape= (4, 1)\n",
      "增加新維度軸為二維陣列；新的shape是(1,4)\n",
      "[[10 20 30 40]] shape= (1, 4)\n",
      "增加新維度軸為三維陣列, 新的shape是(4,1,1)\n",
      "[[[10]]\n",
      "\n",
      " [[20]]\n",
      "\n",
      " [[30]]\n",
      "\n",
      " [[40]]] shape= (4, 1, 1)\n"
     ]
    }
   ],
   "source": [
    "# Add5 解答\n",
    "arr_original = np.array([10, 20, 30, 40])\n",
    "print(\"原始一維陣列\", arr_original, \"原來的shape是\", arr_original.shape)\n",
    "\n",
    "# (a) 調整shape為二維陣列的(4,1)\n",
    "arr_a = arr_original.reshape(4, 1)\n",
    "print(\"增加新維度軸為二維陣列；新的shape是(4,1)\")\n",
    "print(arr_a, \"shape=\", arr_a.shape)\n",
    "\n",
    "# (b) 調整shape為二維陣列的(1,4)\n",
    "arr_b = arr_original.reshape(1, 4)\n",
    "print(\"增加新維度軸為二維陣列；新的shape是(1,4)\")\n",
    "print(arr_b, \"shape=\", arr_b.shape)\n",
    "\n",
    "# (c) 調整shape為三維陣列的(4,1,1)\n",
    "arr_c = arr_original.reshape(4, 1, 1)\n",
    "print(\"增加新維度軸為三維陣列, 新的shape是(4,1,1)\")\n",
    "print(arr_c, \"shape=\", arr_c.shape)"
   ]
  },
  {
   "cell_type": "markdown",
   "metadata": {},
   "source": [
    "## EXnp補充實作Add6: 2×2×4矩陣切片"
   ]
  },
  {
   "cell_type": "code",
   "execution_count": 7,
   "metadata": {},
   "outputs": [
    {
     "name": "stdout",
     "output_type": "stream",
     "text": [
      "原矩陣：\n",
      "[[[100 101 102 103]\n",
      "  [104 105 106 107]]\n",
      "\n",
      " [[108 109 110 111]\n",
      "  [112 113 114 115]]]\n",
      "選出[112,113,114]:\n",
      "[112 113 114]\n"
     ]
    }
   ],
   "source": [
    "# Add6 解答\n",
    "# 創建2×2×4的整數矩陣，內容是100~115\n",
    "arr_3d = np.arange(100, 116).reshape(2, 2, 4)\n",
    "print(\"原矩陣：\")\n",
    "print(arr_3d)\n",
    "\n",
    "# 選出[112,113,114]\n",
    "selected = arr_3d[1, 1, 0:3]  # 第二個2D矩陣(索引1), 第二行(索引1), 前三個元素(索引0-2)\n",
    "print(\"選出[112,113,114]:\")\n",
    "print(selected)"
   ]
  },
  {
   "cell_type": "markdown",
   "metadata": {},
   "source": [
    "## EXnp補充實作Add7: 繪製 y = x⁴ 曲線"
   ]
  },
  {
   "cell_type": "code",
   "execution_count": 8,
   "metadata": {},
   "outputs": [
    {
     "data": {
      "image/png": "[encoded data removed]",
      "text/plain": [
       "<Figure size 1000x600 with 1 Axes>"
      ]
     },
     "metadata": {},
     "output_type": "display_data"
    },
    {
     "name": "stdout",
     "output_type": "stream",
     "text": [
      "已繪製 y = x⁴ 曲線圖，x範圍為[-5,5]\n",
      "注意：如果中文字顯示有問題，請確認系統有安裝中文字體\n"
     ]
    }
   ],
   "source": [
    "# Add7 解答\n",
    "import matplotlib.pyplot as plt\n",
    "\n",
    "# 設定中文字體\n",
    "plt.rcParams['font.sans-serif'] = ['Microsoft JhengHei', 'SimHei', 'Arial Unicode MS']\n",
    "plt.rcParams['axes.unicode_minus'] = False\n",
    "\n",
    "# 創建x值範圍\n",
    "x = np.linspace(-5, 5, 100)\n",
    "# 計算y = x⁴\n",
    "y = x**4\n",
    "\n",
    "# 繪製圖形\n",
    "plt.figure(figsize=(10, 6))\n",
    "plt.plot(x, y, 'b-', linewidth=2, label='y = x⁴')\n",
    "plt.title('y = x⁴ 函數圖形', fontsize=14)\n",
    "plt.xlabel('x 軸', fontsize=12)\n",
    "plt.ylabel('y 軸', fontsize=12)\n",
    "plt.grid(True, alpha=0.3)\n",
    "plt.legend()\n",
    "plt.xlim(-5, 5)\n",
    "plt.ylim(0, 625)  # 因為5⁴=625\n",
    "plt.show()\n",
    "\n",
    "print(\"已繪製 y = x⁴ 曲線圖，x範圍為[-5,5]\")\n",
    "print(\"注意：如果中文字顯示有問題，請確認系統有安裝中文字體\")"
   ]
  }
 ],
 "metadata": {
  "kernelspec": {
   "display_name": "Python 3 (ipykernel)",
   "language": "python",
   "name": "python3"
  },
  "language_info": {
   "codemirror_mode": {
    "name": "ipython",
    "version": 3
   },
   "file_extension": ".py",
   "mimetype": "text/x-python",
   "name": "python",
   "nbconvert_exporter": "python",
   "pygments_lexer": "ipython3",
   "version": "3.12.6"
  }
 },
 "nbformat": 4,
 "nbformat_minor": 4
}
