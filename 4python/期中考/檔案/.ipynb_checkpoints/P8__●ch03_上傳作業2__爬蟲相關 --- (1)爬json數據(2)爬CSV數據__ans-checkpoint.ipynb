{
 "cells": [
  {
   "cell_type": "markdown",
   "id": "acd611a3",
   "metadata": {},
   "source": [
    "# ●ch03_上傳作業2： 爬蟲相關 ---(1)爬JSON數據 (2)爬CSV數據"
   ]
  },
  {
   "cell_type": "markdown",
   "id": "c94e376e",
   "metadata": {},
   "source": [
    "# 3-8 補充：爬蟲相關 ---(1)爬JSON數據 (2)爬CSV數據\n"
   ]
  },
  {
   "cell_type": "markdown",
   "id": "744a6267",
   "metadata": {},
   "source": [
    "# 爬蟲要爬JSON數據"
   ]
  },
  {
   "cell_type": "markdown",
   "id": "4793a495",
   "metadata": {},
   "source": [
    "### Json的方法：直接爬下JSON數據，並且解碼，轉為dict的字典物件"
   ]
  },
  {
   "cell_type": "code",
   "execution_count": 1,
   "id": "018c8fdd",
   "metadata": {},
   "outputs": [],
   "source": [
    "# 爬蟲要爬csv數據\n",
    "\n",
    "### ##方法一：直接爬下csv數據，就當作文字檔處理"
   ]
  },
  {
   "cell_type": "code",
   "execution_count": null,
   "id": "426b9807-ed8a-4fb1-a5db-1503602c379b",
   "metadata": {},
   "outputs": [],
   "source": []
  },
  {
   "cell_type": "markdown",
   "id": "a5f31231",
   "metadata": {},
   "source": [
    "### 網路上opendata的 JSON    用爬蟲方法，爬政府資料開放平台的 opendata   https://data.gov.tw/\n",
    "- 查詢資料：不動產實價登錄資訊-買賣案件-中和區  https://data.gov.tw/dataset/146474\n"
   ]
  },
  {
   "cell_type": "markdown",
   "id": "b9fae7d8-a10a-450e-9891-ef191afdf680",
   "metadata": {},
   "source": [
    "# 超連結：\n",
    "https://data.gov.tw/datasets/search?p=1&size=100&s=_score_desc&rft=%E4%B8%8D%E5%8B%95%E7%94%A2%E5%AF%A6%E5%83%B9%E7%99%BB%E9%8C%84+%E6%B7%A1%E6%B0%B4\n"
   ]
  },
  {
   "cell_type": "code",
   "execution_count": null,
   "id": "b0951f93-cea3-4596-adff-f9482a112d49",
   "metadata": {},
   "outputs": [],
   "source": []
  },
  {
   "cell_type": "markdown",
   "id": "ee14d930-5229-4a80-a304-c7948b6d2734",
   "metadata": {},
   "source": [
    "## 歷年不動產實價登錄資訊-買賣案件-111年-淡水區\n",
    "district(鄉鎮市區)、rps01(交易標的)、rps02(土地區段位置建物區段門牌)、rps03_area(土地移轉總面積平方公尺)、rps04(都市土地使用分區)、rps05(非都市土地使用分區)、rps06(非都市土地使用編定)、rps07_yyymmddroc(交易年月日)、rps08(交易筆棟數)、rps09(移轉層次)、rps10(總樓層數)、rps11(建物型態)、rps12(主要用途)、rps13(主要建材)、rps14_yyymmddroc(建築完成年月)、rps15_area(建物移轉總面積平方公尺)、rps16_quantity(建物現況格局-房)、rps17_quantity(建物現況格局-廳)、rps18_quantity(建物現況格局-衛)、rps19(建物現況格局-隔間)、rps20(有無管理組織)、rps21_amountsunitdollars(總價元)、rps22_area(單價元平方公尺)、rps23(車位類別)、rps24_area(車位移轉總面積平方公尺)、rps25_amountsunitdollars(車位總價元)、rps26(備註)、rps27(編號)\n"
   ]
  },
  {
   "cell_type": "markdown",
   "id": "0a46d0f4-8ad5-4cb2-8827-8048f8c17383",
   "metadata": {},
   "source": [
    "## 歷年不動產實價登錄資訊-買賣案件-110年-淡水區\n",
    "district(鄉鎮市區)、rps01(交易標的)、rps02(土地區段位置建物區段門牌)、rps03_area(土地移轉總面積平方公尺)、rps04(都市土地使用分區)、rps05(非都市土地使用分區)、rps06(非都市土地使用編定)、rps07_yyymmddroc(交易年月日)、rps08(交易筆棟數)、rps09(移轉層次)、rps10(總樓層數)、rps11(建物型態)、rps12(主要用途)、rps13(主要建材)、rps14_yyymmddroc(建築完成年月)、rps15_area(建物移轉總面積平方公尺)、rps16_quantity(建物現況格局-房)、rps17_quantity(建物現況格局-廳)、rps18_quantity(建物現況格局-衛)、rps19(建物現況格局-隔間)、rps20(有無管理組織)、rps21_amountsunitdollars(總價元)、rps22_area(單價元平方公尺)、rps23(車位類別)、rps24_area(車位移轉總面積平方公尺)、rps25_amountsunitdollars(車位總價元)、rps26(備註)、rps27(編號)"
   ]
  },
  {
   "cell_type": "code",
   "execution_count": 2,
   "id": "42c93802-b745-4071-bfab-061e8d3bb18d",
   "metadata": {},
   "outputs": [],
   "source": [
    "# 注意：\n",
    "# 、rps03_area(土地移轉總面積平方公尺)\n",
    "# 、rps21_amountsunitdollars(總價元)、rps22_amountsunitdollars(單價元平方公尺)、"
   ]
  },
  {
   "cell_type": "code",
   "execution_count": 7,
   "id": "ea904fcc-68bb-49de-9d13-d9f3c837d375",
   "metadata": {},
   "outputs": [
    {
     "name": "stdout",
     "output_type": "stream",
     "text": [
      "淡水區  地段： 新北市淡水區民權路１９３之１號  交易年月日= 1110302  平方公尺= 1.72  總價= 1700000   每平公尺價格= \n",
      "淡水區  地段： 新北市淡水區大忠街８５號四樓之３  交易年月日= 1110210  平方公尺= 5  總價= 1700000   每平公尺價格= 58864\n",
      "淡水區  地段： 新北市淡水區中正路二段１８號四樓  交易年月日= 1110209  平方公尺= 20.14  總價= 25000000   每平公尺價格= 85455\n",
      "淡水區  地段： 興仁段459-1地號  交易年月日= 1110209  平方公尺= 196  總價= 3083080   每平公尺價格= 15730\n",
      "淡水區  地段： 新北市淡水區淡金路１８、２０、２  交易年月日= 1110207  平方公尺= 0.69  總價= 1000000   每平公尺價格= \n",
      "淡水區  地段： 新北市淡水區新民街１８０巷７弄１  交易年月日= 1110212  平方公尺= 8.06  總價= 1400000   每平公尺價格= 40000\n",
      "淡水區  地段： 新北市淡水區坪頂路７號十一樓  交易年月日= 1110210  平方公尺= 15.42  總價= 17200000   每平公尺價格= 118046\n",
      "淡水區  地段： 新北市淡水區民權路６７號八樓之２  交易年月日= 1110209  平方公尺= 3.35  總價= 4820000   每平公尺價格= 115173\n",
      "淡水區  地段： 新北市淡水區水源街一段１４８號三  交易年月日= 1110207  平方公尺= 15.33  總價= 3000000   每平公尺價格= 54705\n",
      "淡水區  地段： 天元段558地號  交易年月日= 1110210  平方公尺= 118.02  總價= 1080000   每平公尺價格= 9151\n",
      "淡水區  地段： 新北市淡水區中正路二段４２號十三  交易年月日= 1110217  平方公尺= 10.48  總價= 16000000   每平公尺價格= 115408\n",
      "淡水區  地段： 新北市淡水區中山北路一段２５９號  交易年月日= 1110222  平方公尺= 2.6  總價= 2000000   每平公尺價格= 48077\n",
      "淡水區  地段： 新北市淡水區中正路二段４２之１號  交易年月日= 1110214  平方公尺= 7.78  總價= 12200000   每平公尺價格= 123432\n",
      "淡水區  地段： 新北市淡水區中正東路二段８３號二  交易年月日= 1110212  平方公尺= 2.53  總價= 5900000   每平公尺價格= 112681\n"
     ]
    }
   ],
   "source": [
    "# 網路上opendata的 JSON    用爬蟲方法，爬政府資料開放平台的 opendata   https://data.gov.tw/\n",
    "# 不動產實價登錄資訊-買賣案件-中和區  https://data.gov.tw/dataset/146474\n",
    "import requests \n",
    "# json 2024年版\n",
    "#http='https://quality.data.gov.tw/dq_download_json.php?nid=146474&md5_url=cca3539e4734542313e64005b719203f'\n",
    "http='https://quality.data.gov.tw/dq_download_json.php?nid=161670&md5_url=7f9267cf7f5973f63939af13b37be84f'\n",
    "\n",
    "\n",
    "## 在 歷年不動產實價登錄資訊-買賣案件-111年-淡水區\n",
    "##    rps21_amountsunitdollars(總價元)\n",
    "##    rps22_area(單價元平方公尺)、\n",
    "##    rps23(車位類別)\n",
    "response = requests.get(http)  ##直接get會自動生成一個session()\n",
    "#client = requests.session()\n",
    "#response = client.get(url=http) # 執行 get 的http，  ##另一個常見的是post\n",
    "dic=response.json()\n",
    "\n",
    "for i in range(14):\n",
    "    #print(dic[i])    \n",
    "    # rps07_yyymmddroc(交易年月日)\n",
    "    print(dic[i]['district'], \" 地段：\" , dic[i]['rps02'][:16],     \" 交易年月日=\",dic[i]['rps07_yyymmddroc'],     \" 平方公尺=\",dic[i]['rps03_area'], \" 總價=\", dic[i]['rps21_amountsunitdollars'], \"  每平公尺價格=\" , f\"{dic[i]['rps22_area']}\") \n",
    "    #print(dic[i]['district'], \" 地段：\" , dic[i]['rps02'][:16], \" 平方公尺=\",dic[i]['rps03_area'], \" 總價=\", dic[i]['rps21'], \"  每平公尺價格=\" , f\"{dic[i]['rps22_amountsunitdollars']}\") \n"
   ]
  },
  {
   "cell_type": "code",
   "execution_count": null,
   "id": "2cac883f-ce71-43f4-a082-fa546947c0c8",
   "metadata": {},
   "outputs": [],
   "source": []
  },
  {
   "cell_type": "markdown",
   "id": "bc48f8f1",
   "metadata": {},
   "source": [
    "### csv方法一：直接爬下csv數據，就當作文字檔處理"
   ]
  },
  {
   "cell_type": "code",
   "execution_count": 2,
   "id": "4c10decc",
   "metadata": {
    "scrolled": true
   },
   "outputs": [
    {
     "name": "stdout",
     "output_type": "stream",
     "text": [
      "  地段新北市淡水區民權路１９３之１號,  平方公尺1.72, 交易日期1110302,\n",
      "  地段新北市淡水區大忠街８５號四樓之３,  平方公尺5, 交易日期1110210,\n",
      "  地段新北市淡水區中正路二段１８號四樓之２,  平方公尺20.14, 交易日期1110209,\n",
      "  地段興仁段459-1地號,  平方公尺196, 交易日期1110209,\n",
      "  地段新北市淡水區淡金路１８、２０、２２、２４、２６、２８、３０、３２號及淡金路１６巷１、３、５、７、９、１１、１３、１５、１７、１９、２１、２３、２５號之地下室底三層,  平方公尺0.69, 交易日期1110207,\n",
      "  地段新北市淡水區新民街１８０巷７弄１３號三樓,  平方公尺8.06, 交易日期1110212,\n",
      "  地段新北市淡水區坪頂路７號十一樓,  平方公尺15.42, 交易日期1110210,\n",
      "  地段新北市淡水區民權路６７號八樓之２,  平方公尺3.35, 交易日期1110209,\n",
      "  地段新北市淡水區水源街一段１４８號三樓,  平方公尺15.33, 交易日期1110207,\n",
      "  地段天元段558地號,  平方公尺118.02, 交易日期1110210,\n",
      "  地段新北市淡水區中正路二段４２號十三樓,  平方公尺10.48, 交易日期1110217,\n",
      "  地段新北市淡水區中山北路一段２５９號十樓之５,  平方公尺2.6, 交易日期1110222,\n",
      "  地段新北市淡水區中正路二段４２之１號三樓,  平方公尺7.78, 交易日期1110214,\n",
      "  地段新北市淡水區中正東路二段８３號二十四樓之２,  平方公尺2.53, 交易日期1110212,\n"
     ]
    }
   ],
   "source": [
    "##方法一：直接爬下csv檔，就當作文字檔處理\n",
    "##網路上opendata的 JSON    用爬蟲方法，爬政府資料開放平台的 opendata   https://data.gov.tw/\n",
    "import requests \n",
    "#http='https://quality.data.gov.tw/dq_download_csv.php?nid=125729&md5_url=0d9d46c4c71e732c3449bf408fc58dbe'\n",
    "# csv 2024年版\n",
    "#http='https://quality.data.gov.tw/dq_download_csv.php?nid=146474&md5_url=cca3539e4734542313e64005b719203f'\n",
    "#http='https://data.ntpc.gov.tw/api/datasets/a2e8c406-cfd4-4b68-ae29-c0156487e9d1/csv/file' # 板橋區\n",
    "http='\thttps://data.ntpc.gov.tw/api/datasets/783a7ddb-cbbd-4c21-8517-e6c52bfe8cc5/csv/file'\n",
    "\n",
    "response = requests.get(http)  ##直接get會自動生成一個session()\n",
    "dicts=response.text\n",
    "dict=dicts.split('\\n')\n",
    "data_first_lint=dict[0].split(',')\n",
    "for i in range(1,15):\n",
    "    datas=dict[i].split(',')\n",
    "    for j in range(len(datas)):\n",
    "        if data_first_lint[j]=='district':\n",
    "            print(datas[j] + ',',  end=\"\")\n",
    "        if data_first_lint[j]=='rps07_yyymmddroc':\n",
    "            print(\" 交易日期\"+ datas[j] + ',',  end=\"\")\n",
    "        if data_first_lint[j]=='rps02':\n",
    "            print(\"  地段\" + datas[j] + ',',  end=\"\")\n",
    "        if data_first_lint[j]=='rps03_area':\n",
    "            print(\"  平方公尺\" + datas[j] + ',',  end=\"\")            \n",
    "    print()"
   ]
  },
  {
   "cell_type": "code",
   "execution_count": null,
   "id": "4a740cb7",
   "metadata": {},
   "outputs": [],
   "source": []
  },
  {
   "cell_type": "code",
   "execution_count": 6,
   "id": "1c790dd8",
   "metadata": {},
   "outputs": [],
   "source": [
    "# ●ch03_上傳作業2 (請修改程式，可以印出前14筆資料, 地區，暫改為\"不動產實價登錄資訊租賃案件-汐止區\")： 爬蟲相關 ---(1)爬JSON數據 (2)爬CSV數據  ------ end --------- 實驗者：江俊廷99號\n",
    "#"
   ]
  },
  {
   "cell_type": "markdown",
   "id": "1baf7b09-8b48-4f5d-a817-21cd9e7309e2",
   "metadata": {},
   "source": [
    "# ●ch03_上傳作業2 (請修改程式，可以印出前14筆資料, 地區，暫改為\"不動產實價登錄資訊租賃案件-淡水區\")： 爬蟲相關 ---(1)爬JSON數據 (2)爬CSV數據  ------ end --------- 實驗者：江俊廷99號\n",
    "#"
   ]
  },
  {
   "cell_type": "code",
   "execution_count": 7,
   "id": "faf45226",
   "metadata": {},
   "outputs": [],
   "source": [
    "# https://data.gov.tw/dataset/173898\n",
    "# https://data.gov.tw/datasets/search?p=1&size=10&s=_score_desc&lgl-1=22026&lgl-2=9497&lgl-3=9537&rft=%E4%B8%8D%E5%8B%95%E7%94%A2%E5%AF%A6%E5%83%B9%E7%99%BB%E9%8C%84%E8%B3%87%E8%A8%8A%E7%A7%9F%E8%B3%83%E6%A1%88%E4%BB%B6"
   ]
  }
 ],
 "metadata": {
  "kernelspec": {
   "display_name": "Python 3 (ipykernel)",
   "language": "python",
   "name": "python3"
  },
  "language_info": {
   "codemirror_mode": {
    "name": "ipython",
    "version": 3
   },
   "file_extension": ".py",
   "mimetype": "text/x-python",
   "name": "python",
   "nbconvert_exporter": "python",
   "pygments_lexer": "ipython3",
   "version": "3.12.6"
  }
 },
 "nbformat": 4,
 "nbformat_minor": 5
}
